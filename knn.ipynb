{
  "nbformat": 4,
  "nbformat_minor": 0,
  "metadata": {
    "colab": {
      "name": "knn.ipynb",
      "provenance": [],
      "authorship_tag": "ABX9TyMKiHjZHOOZmgCQxwLykyzE",
      "include_colab_link": true
    },
    "kernelspec": {
      "name": "python3",
      "display_name": "Python 3"
    },
    "language_info": {
      "name": "python"
    }
  },
  "cells": [
    {
      "cell_type": "markdown",
      "metadata": {
        "id": "view-in-github",
        "colab_type": "text"
      },
      "source": [
        "<a href=\"https://colab.research.google.com/github/AdityaFaisal/DataMining_KNN/blob/main/knn.ipynb\" target=\"_parent\"><img src=\"https://colab.research.google.com/assets/colab-badge.svg\" alt=\"Open In Colab\"/></a>"
      ]
    },
    {
      "cell_type": "code",
      "metadata": {
        "id": "jdB2S81KcbJq"
      },
      "source": [
        "import numpy as np\n",
        "import matplotlib.pyplot as plt\n",
        "import pandas as pd"
      ],
      "execution_count": 18,
      "outputs": []
    },
    {
      "cell_type": "code",
      "metadata": {
        "id": "mG3a5yZKc4fu"
      },
      "source": [
        "dataset = pd.read_csv('chord-progressions.csv')\n",
        "x = dataset.iloc[:, [2,3]].values\n",
        "y = dataset.iloc[:, -2].values"
      ],
      "execution_count": 26,
      "outputs": []
    },
    {
      "cell_type": "code",
      "metadata": {
        "colab": {
          "base_uri": "https://localhost:8080/"
        },
        "id": "DXdfoitveGiP",
        "outputId": "403807a3-a705-41b5-a36c-e9d42d669e28"
      },
      "source": [
        "print(x)"
      ],
      "execution_count": 27,
      "outputs": [
        {
          "output_type": "stream",
          "text": [
            "[[1 5]\n",
            " [1 5]\n",
            " [1 1]\n",
            " [4 5]\n",
            " [2 5]\n",
            " [2 4]\n",
            " [4 6]\n",
            " [1 4]\n",
            " [1 4]\n",
            " [4 3]\n",
            " [6 5]\n",
            " [3 6]\n",
            " [1 6]\n",
            " [5 4]\n",
            " [1 5]\n",
            " [6 4]\n",
            " [3 7]\n",
            " [4 5]\n",
            " [5 5]\n",
            " [4 4]\n",
            " [5 4]\n",
            " [1 1]\n",
            " [1 4]\n",
            " [5 1]\n",
            " [1 4]\n",
            " [4 6]\n",
            " [5 7]\n",
            " [7 6]\n",
            " [1 6]\n",
            " [5 4]\n",
            " [1 5]\n",
            " [6 4]\n",
            " [3 7]\n",
            " [4 5]\n",
            " [5 5]\n",
            " [4 4]\n",
            " [5 4]\n",
            " [1 1]\n",
            " [1 4]\n",
            " [5 1]\n",
            " [1 4]\n",
            " [4 6]\n",
            " [5 7]\n",
            " [7 6]]\n"
          ],
          "name": "stdout"
        }
      ]
    },
    {
      "cell_type": "code",
      "metadata": {
        "colab": {
          "base_uri": "https://localhost:8080/"
        },
        "id": "1aZK96qqeL4Q",
        "outputId": "51985048-d656-4bb6-81a9-28be577c226d"
      },
      "source": [
        "print(y)"
      ],
      "execution_count": 28,
      "outputs": [
        {
          "output_type": "stream",
          "text": [
            "[5 5 1 5 5 4 6 4 4 3 5 6 6 4 5 4 7 5 5 4 4 1 4 1 4 6 7 6 6 4 5 4 7 5 5 4 4\n",
            " 1 4 1 4 6 7 6]\n"
          ],
          "name": "stdout"
        }
      ]
    },
    {
      "cell_type": "code",
      "metadata": {
        "id": "uU8enL1IeWHk"
      },
      "source": [
        "from sklearn.model_selection import train_test_split\n",
        "x_train, x_test, y_train, y_test = train_test_split(x, y, test_size = 0.25, random_state = 0)"
      ],
      "execution_count": 29,
      "outputs": []
    },
    {
      "cell_type": "code",
      "metadata": {
        "colab": {
          "base_uri": "https://localhost:8080/"
        },
        "id": "oZc4DcKqeZX7",
        "outputId": "c30ce968-800c-4c35-8c8a-3911a58e8f25"
      },
      "source": [
        "print(x_train)"
      ],
      "execution_count": 30,
      "outputs": [
        {
          "output_type": "stream",
          "text": [
            "[[5 4]\n",
            " [4 6]\n",
            " [1 1]\n",
            " [7 6]\n",
            " [5 5]\n",
            " [6 4]\n",
            " [1 4]\n",
            " [3 7]\n",
            " [1 4]\n",
            " [1 4]\n",
            " [5 4]\n",
            " [2 4]\n",
            " [4 5]\n",
            " [3 7]\n",
            " [1 5]\n",
            " [4 4]\n",
            " [1 4]\n",
            " [5 5]\n",
            " [1 5]\n",
            " [5 7]\n",
            " [1 6]\n",
            " [4 5]\n",
            " [1 4]\n",
            " [4 6]\n",
            " [5 1]\n",
            " [5 4]\n",
            " [1 1]\n",
            " [4 4]\n",
            " [4 3]\n",
            " [5 1]\n",
            " [5 7]\n",
            " [4 5]\n",
            " [1 5]]\n"
          ],
          "name": "stdout"
        }
      ]
    },
    {
      "cell_type": "code",
      "metadata": {
        "colab": {
          "base_uri": "https://localhost:8080/"
        },
        "id": "3z8c7974een7",
        "outputId": "83c14e15-1cd1-4386-bd8c-751c493b83eb"
      },
      "source": [
        "print(x_test)"
      ],
      "execution_count": 31,
      "outputs": [
        {
          "output_type": "stream",
          "text": [
            "[[1 5]\n",
            " [1 1]\n",
            " [7 6]\n",
            " [2 5]\n",
            " [6 5]\n",
            " [4 6]\n",
            " [1 6]\n",
            " [3 6]\n",
            " [1 4]\n",
            " [6 4]\n",
            " [5 4]]\n"
          ],
          "name": "stdout"
        }
      ]
    },
    {
      "cell_type": "code",
      "metadata": {
        "colab": {
          "base_uri": "https://localhost:8080/"
        },
        "id": "mcn5s9lqehuU",
        "outputId": "9b0591bc-3c60-4371-ceab-a322b4444ed6"
      },
      "source": [
        "print(y_train)"
      ],
      "execution_count": 32,
      "outputs": [
        {
          "output_type": "stream",
          "text": [
            "[4 6 1 6 5 4 4 7 4 4 4 4 5 7 5 4 4 5 5 7 6 5 4 6 1 4 1 4 3 1 7 5 5]\n"
          ],
          "name": "stdout"
        }
      ]
    },
    {
      "cell_type": "code",
      "metadata": {
        "colab": {
          "base_uri": "https://localhost:8080/"
        },
        "id": "WPw51ABvemI_",
        "outputId": "5afd6c3b-fc95-429b-99a2-a4daa57ad5f0"
      },
      "source": [
        "print(y_test)"
      ],
      "execution_count": 33,
      "outputs": [
        {
          "output_type": "stream",
          "text": [
            "[5 1 6 5 5 6 6 6 4 4 4]\n"
          ],
          "name": "stdout"
        }
      ]
    },
    {
      "cell_type": "code",
      "metadata": {
        "id": "xL3IV7ZRep2V"
      },
      "source": [
        "from sklearn.preprocessing import  StandardScaler\n",
        "sc = StandardScaler()\n",
        "x_train = sc.fit_transform(x_train)\n",
        "x_test = sc.fit_transform(x_test)"
      ],
      "execution_count": 34,
      "outputs": []
    },
    {
      "cell_type": "code",
      "metadata": {
        "colab": {
          "base_uri": "https://localhost:8080/"
        },
        "id": "xjddJM_NerBZ",
        "outputId": "4d3a1f38-aaba-43cb-be3a-39caca77b92a"
      },
      "source": [
        "print(x_train)"
      ],
      "execution_count": 35,
      "outputs": [
        {
          "output_type": "stream",
          "text": [
            "[[ 0.92539864 -0.27496334]\n",
            " [ 0.38007444  0.93487536]\n",
            " [-1.25589815 -2.08972139]\n",
            " [ 2.01604704  0.93487536]\n",
            " [ 0.92539864  0.32995601]\n",
            " [ 1.47072284 -0.27496334]\n",
            " [-1.25589815 -0.27496334]\n",
            " [-0.16524976  1.53979471]\n",
            " [-1.25589815 -0.27496334]\n",
            " [-1.25589815 -0.27496334]\n",
            " [ 0.92539864 -0.27496334]\n",
            " [-0.71057396 -0.27496334]\n",
            " [ 0.38007444  0.32995601]\n",
            " [-0.16524976  1.53979471]\n",
            " [-1.25589815  0.32995601]\n",
            " [ 0.38007444 -0.27496334]\n",
            " [-1.25589815 -0.27496334]\n",
            " [ 0.92539864  0.32995601]\n",
            " [-1.25589815  0.32995601]\n",
            " [ 0.92539864  1.53979471]\n",
            " [-1.25589815  0.93487536]\n",
            " [ 0.38007444  0.32995601]\n",
            " [-1.25589815 -0.27496334]\n",
            " [ 0.38007444  0.93487536]\n",
            " [ 0.92539864 -2.08972139]\n",
            " [ 0.92539864 -0.27496334]\n",
            " [-1.25589815 -2.08972139]\n",
            " [ 0.38007444 -0.27496334]\n",
            " [ 0.38007444 -0.87988269]\n",
            " [ 0.92539864 -2.08972139]\n",
            " [ 0.92539864  1.53979471]\n",
            " [ 0.38007444  0.32995601]\n",
            " [-1.25589815  0.32995601]]\n"
          ],
          "name": "stdout"
        }
      ]
    },
    {
      "cell_type": "code",
      "metadata": {
        "colab": {
          "base_uri": "https://localhost:8080/"
        },
        "id": "13OSDrDleuxf",
        "outputId": "5fb424f2-ce73-449e-d9e3-5b64f8b56018"
      },
      "source": [
        "print(x_test)"
      ],
      "execution_count": 36,
      "outputs": [
        {
          "output_type": "stream",
          "text": [
            "[[-1.06144556  0.19205532]\n",
            " [-1.06144556 -2.62475604]\n",
            " [ 1.63299316  0.89625816]\n",
            " [-0.61237244  0.19205532]\n",
            " [ 1.18392004  0.19205532]\n",
            " [ 0.2857738   0.89625816]\n",
            " [-1.06144556  0.89625816]\n",
            " [-0.16329932  0.89625816]\n",
            " [-1.06144556 -0.51214752]\n",
            " [ 1.18392004 -0.51214752]\n",
            " [ 0.73484692 -0.51214752]]\n"
          ],
          "name": "stdout"
        }
      ]
    },
    {
      "cell_type": "code",
      "metadata": {
        "colab": {
          "base_uri": "https://localhost:8080/"
        },
        "id": "0HmIltBGezMt",
        "outputId": "03bcc399-62b2-4f5b-e51a-6329f05f89db"
      },
      "source": [
        "from sklearn.neighbors import KNeighborsClassifier\n",
        "classifier = KNeighborsClassifier(n_neighbors = 5, metric = 'minkowski', p = 2)\n",
        "classifier.fit(x_train,y_train)"
      ],
      "execution_count": 37,
      "outputs": [
        {
          "output_type": "execute_result",
          "data": {
            "text/plain": [
              "KNeighborsClassifier(algorithm='auto', leaf_size=30, metric='minkowski',\n",
              "                     metric_params=None, n_jobs=None, n_neighbors=5, p=2,\n",
              "                     weights='uniform')"
            ]
          },
          "metadata": {
            "tags": []
          },
          "execution_count": 37
        }
      ]
    },
    {
      "cell_type": "code",
      "metadata": {
        "id": "ussRHTBue43o"
      },
      "source": [
        "y_pred = classifier.predict(x_test)"
      ],
      "execution_count": 38,
      "outputs": []
    },
    {
      "cell_type": "code",
      "metadata": {
        "colab": {
          "base_uri": "https://localhost:8080/"
        },
        "id": "oiTqO-ANe6TX",
        "outputId": "f3cc3052-9810-4a25-f03b-569a925ef90a"
      },
      "source": [
        "from sklearn.metrics import confusion_matrix\n",
        "cm = confusion_matrix(y_test, y_pred)\n",
        "print(cm)"
      ],
      "execution_count": 39,
      "outputs": [
        {
          "output_type": "stream",
          "text": [
            "[[1 0 0 0]\n",
            " [0 3 0 0]\n",
            " [0 1 2 0]\n",
            " [0 0 3 1]]\n"
          ],
          "name": "stdout"
        }
      ]
    },
    {
      "cell_type": "code",
      "metadata": {
        "colab": {
          "base_uri": "https://localhost:8080/",
          "height": 366
        },
        "id": "Rhg03hsPe971",
        "outputId": "f30c8e2a-2b73-4c51-8b6a-3468f3e7eda6"
      },
      "source": [
        "from matplotlib.colors import ListedColormap\n",
        "x_set, y_set = x_train, y_train\n",
        "x1, x2 = np.meshgrid(np.arange(start = x_set[:, 0].min()-1, stop = x_set[:,0].max()+1, step=0.01),\n",
        "                     np.arange(start = x_set[:, 1].min()-1, stop = x_set[:,1].max()+1, step=0.01))\n",
        "plt.contourf(x1,x2, classifier.predict(np.array([x1.ravel(), x2.ravel()]).T).reshape(x1.shape),\n",
        "              alpha = 0.75, cmap = ListedColormap(('red', 'green')))\n",
        "plt.xlim(x1.min(), x1.max())\n",
        "plt.ylim(x2.min(), x2.max())\n",
        "for i, j in enumerate (np.unique(y_set)):\n",
        "    plt.scatter(x_set[y_set == j, 0], x_set[y_set == j, 1],\n",
        "                c = ListedColormap(('red', 'green'))(i), label = j)\n",
        "plt.title('K-NN (Training Set)')\n",
        "plt.xlabel('Age')\n",
        "plt.ylabel('Estimated Chord')\n",
        "plt.legend()\n",
        "plt.show()"
      ],
      "execution_count": 40,
      "outputs": [
        {
          "output_type": "stream",
          "text": [
            "*c* argument looks like a single numeric RGB or RGBA sequence, which should be avoided as value-mapping will have precedence in case its length matches with *x* & *y*.  Please use the *color* keyword-argument or provide a 2-D array with a single row if you intend to specify the same RGB or RGBA value for all points.\n",
            "*c* argument looks like a single numeric RGB or RGBA sequence, which should be avoided as value-mapping will have precedence in case its length matches with *x* & *y*.  Please use the *color* keyword-argument or provide a 2-D array with a single row if you intend to specify the same RGB or RGBA value for all points.\n",
            "*c* argument looks like a single numeric RGB or RGBA sequence, which should be avoided as value-mapping will have precedence in case its length matches with *x* & *y*.  Please use the *color* keyword-argument or provide a 2-D array with a single row if you intend to specify the same RGB or RGBA value for all points.\n"
          ],
          "name": "stderr"
        },
        {
          "output_type": "display_data",
          "data": {
            "image/png": "[encoded data removed]",
            "text/plain": [
              "<Figure size 432x288 with 1 Axes>"
            ]
          },
          "metadata": {
            "tags": [],
            "needs_background": "light"
          }
        }
      ]
    }
  ]
}